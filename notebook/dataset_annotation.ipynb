{
  "nbformat": 4,
  "nbformat_minor": 0,
  "metadata": {
    "colab": {
      "provenance": []
    },
    "kernelspec": {
      "name": "python3",
      "display_name": "Python 3"
    },
    "language_info": {
      "name": "python"
    }
  },
  "cells": [
    {
      "cell_type": "code",
      "source": [
        "pip install openai==0.28"
      ],
      "metadata": {
        "colab": {
          "base_uri": "https://localhost:8080/",
          "height": 495
        },
        "id": "0Jyp7GYieJNZ",
        "outputId": "af6c9d93-d3a4-470c-946e-d373ebf21c37"
      },
      "execution_count": 4,
      "outputs": [
        {
          "output_type": "stream",
          "name": "stdout",
          "text": [
            "Collecting openai==0.28\n",
            "  Downloading openai-0.28.0-py3-none-any.whl (76 kB)\n",
            "\u001b[?25l     \u001b[90m━━━━━━━━━━━━━━━━━━━━━━━━━━━━━━━━━━━━━━━━\u001b[0m \u001b[32m0.0/76.5 kB\u001b[0m \u001b[31m?\u001b[0m eta \u001b[36m-:--:--\u001b[0m\r\u001b[2K     \u001b[91m━━━━━━━━━━━━━━━━━━━━━━━━━━━━━━━━━━━━━\u001b[0m\u001b[90m╺\u001b[0m\u001b[90m━━\u001b[0m \u001b[32m71.7/76.5 kB\u001b[0m \u001b[31m2.1 MB/s\u001b[0m eta \u001b[36m0:00:01\u001b[0m\r\u001b[2K     \u001b[90m━━━━━━━━━━━━━━━━━━━━━━━━━━━━━━━━━━━━━━━━\u001b[0m \u001b[32m76.5/76.5 kB\u001b[0m \u001b[31m1.8 MB/s\u001b[0m eta \u001b[36m0:00:00\u001b[0m\n",
            "\u001b[?25hRequirement already satisfied: requests>=2.20 in /usr/local/lib/python3.10/dist-packages (from openai==0.28) (2.31.0)\n",
            "Requirement already satisfied: tqdm in /usr/local/lib/python3.10/dist-packages (from openai==0.28) (4.66.4)\n",
            "Requirement already satisfied: aiohttp in /usr/local/lib/python3.10/dist-packages (from openai==0.28) (3.9.5)\n",
            "Requirement already satisfied: charset-normalizer<4,>=2 in /usr/local/lib/python3.10/dist-packages (from requests>=2.20->openai==0.28) (3.3.2)\n",
            "Requirement already satisfied: idna<4,>=2.5 in /usr/local/lib/python3.10/dist-packages (from requests>=2.20->openai==0.28) (3.7)\n",
            "Requirement already satisfied: urllib3<3,>=1.21.1 in /usr/local/lib/python3.10/dist-packages (from requests>=2.20->openai==0.28) (2.0.7)\n",
            "Requirement already satisfied: certifi>=2017.4.17 in /usr/local/lib/python3.10/dist-packages (from requests>=2.20->openai==0.28) (2024.2.2)\n",
            "Requirement already satisfied: aiosignal>=1.1.2 in /usr/local/lib/python3.10/dist-packages (from aiohttp->openai==0.28) (1.3.1)\n",
            "Requirement already satisfied: attrs>=17.3.0 in /usr/local/lib/python3.10/dist-packages (from aiohttp->openai==0.28) (23.2.0)\n",
            "Requirement already satisfied: frozenlist>=1.1.1 in /usr/local/lib/python3.10/dist-packages (from aiohttp->openai==0.28) (1.4.1)\n",
            "Requirement already satisfied: multidict<7.0,>=4.5 in /usr/local/lib/python3.10/dist-packages (from aiohttp->openai==0.28) (6.0.5)\n",
            "Requirement already satisfied: yarl<2.0,>=1.0 in /usr/local/lib/python3.10/dist-packages (from aiohttp->openai==0.28) (1.9.4)\n",
            "Requirement already satisfied: async-timeout<5.0,>=4.0 in /usr/local/lib/python3.10/dist-packages (from aiohttp->openai==0.28) (4.0.3)\n",
            "Installing collected packages: openai\n",
            "  Attempting uninstall: openai\n",
            "    Found existing installation: openai 1.27.0\n",
            "    Uninstalling openai-1.27.0:\n",
            "      Successfully uninstalled openai-1.27.0\n",
            "Successfully installed openai-0.28.0\n"
          ]
        },
        {
          "output_type": "display_data",
          "data": {
            "application/vnd.colab-display-data+json": {
              "pip_warning": {
                "packages": [
                  "openai"
                ]
              },
              "id": "dd084fbb860742b99f39ac6cf791eede"
            }
          },
          "metadata": {}
        }
      ]
    },
    {
      "cell_type": "code",
      "source": [
        "import base64\n",
        "import requests\n",
        "import json\n",
        "\n",
        "# OpenAI API Key\n",
        "api_key = \"sk-xxx\""
      ],
      "metadata": {
        "id": "Lb83bwspgcIg"
      },
      "execution_count": 11,
      "outputs": []
    },
    {
      "cell_type": "code",
      "source": [
        "def encode_image(image_path):\n",
        "    with open(image_path, \"rb\") as file:\n",
        "        image_data = base64.b64encode(file.read()).decode('utf-8')\n",
        "    return image_data\n",
        "\n",
        "def format_output(prompt, image_url, response):\n",
        "    user_content = {\n",
        "        \"role\": \"user\",\n",
        "        \"content\": [\n",
        "            {\n",
        "                \"index\": None,\n",
        "                \"text\": prompt,\n",
        "                \"type\": \"text\"\n",
        "            },\n",
        "            {\n",
        "                \"index\": 0,\n",
        "                \"text\": None,\n",
        "                \"type\": \"image\"\n",
        "            }\n",
        "        ]\n",
        "    }\n",
        "\n",
        "    assistant_content = {\n",
        "        \"role\": \"assistant\",\n",
        "        \"content\": [\n",
        "            {\n",
        "                \"index\": None,\n",
        "                \"text\": response,\n",
        "                \"type\": \"text\"\n",
        "            }\n",
        "        ]\n",
        "    }\n",
        "\n",
        "    return [user_content, assistant_content]\n",
        "\n",
        "image_paths = [\n",
        "    \"/content/209105611_503055027473834_75509644885757551_n.jpg\",\n",
        "    \"/content/compressjpg2111130 MUHAMMAD FARIDAN SUTARIYA.JPG\"\n",
        "]\n",
        "\n",
        "results = []\n",
        "\n",
        "for path in image_paths:\n",
        "    base64_image = encode_image(path)\n",
        "\n",
        "    headers = {\n",
        "        \"Content-Type\": \"application/json\",\n",
        "        \"Authorization\": f\"Bearer {api_key}\"\n",
        "    }\n",
        "\n",
        "    payload = {\n",
        "        \"model\": \"gpt-4-turbo\",\n",
        "        \"messages\": [\n",
        "            {\n",
        "                \"role\": \"user\",\n",
        "                \"content\": [\n",
        "                    {\n",
        "                        \"type\": \"text\",\n",
        "                        \"text\": \"you are an annotator for image that will be use for computer vision train dataset. Please provide caption that classifies the image as 'Real' or 'Fake.' Include a brief explanation of the factors or features that led to this classification.\"\n",
        "                    },\n",
        "                    {\n",
        "                        \"type\": \"image_url\",\n",
        "                        \"image_url\": {\n",
        "                            \"url\": f\"data:image/jpeg;base64,{base64_image}\"\n",
        "                        }\n",
        "                    }\n",
        "                ]\n",
        "            }\n",
        "        ],\n",
        "        \"max_tokens\": 300\n",
        "    }\n",
        "\n",
        "    response = requests.post(\"https://api.openai.com/v1/chat/completions\", headers=headers, json=payload)\n",
        "\n",
        "    assistant_response = response.json()[\"choices\"][0][\"message\"][\"content\"]\n",
        "\n",
        "    output = format_output(\"What’s in this image?\", f\"data:image/jpeg;base64,{base64_image}\", assistant_response)\n",
        "\n",
        "    results.append(output)\n",
        "\n",
        "output_json = json.dumps(results, indent=2)\n",
        "print(output_json)"
      ],
      "metadata": {
        "colab": {
          "base_uri": "https://localhost:8080/"
        },
        "id": "lJT5KdWDgcLR",
        "outputId": "76b2f916-f287-4c07-fde2-1e3554cb083c"
      },
      "execution_count": 18,
      "outputs": [
        {
          "output_type": "stream",
          "name": "stdout",
          "text": [
            "[\n",
            "  [\n",
            "    {\n",
            "      \"role\": \"user\",\n",
            "      \"content\": [\n",
            "        {\n",
            "          \"index\": null,\n",
            "          \"text\": \"What\\u2019s in this image?\",\n",
            "          \"type\": \"text\"\n",
            "        },\n",
            "        {\n",
            "          \"index\": 0,\n",
            "          \"text\": null,\n",
            "          \"type\": \"image\"\n",
            "        }\n",
            "      ]\n",
            "    },\n",
            "    {\n",
            "      \"role\": \"assistant\",\n",
            "      \"content\": [\n",
            "        {\n",
            "          \"index\": null,\n",
            "          \"text\": \"The image shows a person wearing a black face mask, which covers the nose and mouth. The person has a dark, side-swept hairstyle and is wearing what appears to be a yellow garment, possibly a shirt or jacket. The background is not very clear but looks somewhat blurred. The perspective is a close-up, focusing on the person's profile.\",\n",
            "          \"type\": \"text\"\n",
            "        }\n",
            "      ]\n",
            "    }\n",
            "  ],\n",
            "  [\n",
            "    {\n",
            "      \"role\": \"user\",\n",
            "      \"content\": [\n",
            "        {\n",
            "          \"index\": null,\n",
            "          \"text\": \"What\\u2019s in this image?\",\n",
            "          \"type\": \"text\"\n",
            "        },\n",
            "        {\n",
            "          \"index\": 0,\n",
            "          \"text\": null,\n",
            "          \"type\": \"image\"\n",
            "        }\n",
            "      ]\n",
            "    },\n",
            "    {\n",
            "      \"role\": \"assistant\",\n",
            "      \"content\": [\n",
            "        {\n",
            "          \"index\": null,\n",
            "          \"text\": \"The image shows a man against a blue background. He has short black hair and is wearing a maroon jacket over a plaid shirt. The man is facing the camera and has a neutral expression.\",\n",
            "          \"type\": \"text\"\n",
            "        }\n",
            "      ]\n",
            "    }\n",
            "  ]\n",
            "]\n"
          ]
        }
      ]
    }
  ]
}